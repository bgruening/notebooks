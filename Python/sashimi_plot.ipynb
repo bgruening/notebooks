{
 "metadata": {
  "kernelspec": {
   "display_name": "Python 2",
   "language": "python",
   "name": "python2"
  },
  "language_info": {
   "codemirror_mode": {
    "name": "ipython",
    "version": 2
   },
   "file_extension": ".py",
   "mimetype": "text/x-python",
   "name": "python",
   "nbconvert_exporter": "python",
   "pygments_lexer": "ipython2",
   "version": "2.7.6"
  },
  "name": "",
  "signature": "sha256:6f83aa4624b0194ba4962d5ce09c6d4d8333bfdf0d4b150dcd55f87a756572d0"
 },
 "nbformat": 3,
 "nbformat_minor": 0,
 "worksheets": [
  {
   "cells": [
    {
     "cell_type": "markdown",
     "metadata": {},
     "source": [
      "__Install Misopy__\n"
     ]
    },
    {
     "cell_type": "code",
     "collapsed": false,
     "input": [
      "!pip install --user --quiet misopy"
     ],
     "language": "python",
     "metadata": {},
     "outputs": [],
     "prompt_number": 1
    },
    {
     "cell_type": "markdown",
     "metadata": {},
     "source": [
      "**Restart the kernel (Kernel -> Restart)**, so that IPython finds Misopy"
     ]
    },
    {
     "cell_type": "markdown",
     "metadata": {},
     "source": [
      "__Get Samtools__"
     ]
    },
    {
     "cell_type": "code",
     "collapsed": false,
     "input": [
      "from urllib import urlretrieve\n",
      "urlretrieve(\"http://depot.galaxyproject.org/package/linux/x86_64/samtools/samtools-0.1.19-Linux-x86_64.tgz\",\"samtools.tgz\")\n",
      "!tar -xf samtools.tgz"
     ],
     "language": "python",
     "metadata": {},
     "outputs": [],
     "prompt_number": 1
    },
    {
     "cell_type": "markdown",
     "metadata": {},
     "source": [
      "The samtools binary should now be in bin/samtools\n",
      "\n",
      "\n",
      "__Generate Indices of the bam Files__\n",
      "\n",
      "- Now the bam files from the Galaxy history can be imported with get(history_id) \n",
      "- Then index files of the bam files can be generated via samtools"
     ]
    },
    {
     "cell_type": "code",
     "collapsed": false,
     "input": [
      "get(1)\n",
      "get(2)\n",
      "!mv 1 461177.bam\n",
      "!mv 2 461178.bam\n",
      "\n",
      "!bin/samtools index 461177.bam\n",
      "!bin/samtools index 461178.bam\n"
     ],
     "language": "python",
     "metadata": {},
     "outputs": [],
     "prompt_number": 2
    },
    {
     "cell_type": "markdown",
     "metadata": {},
     "source": [
      "If everything went well there should now be index files (*.bai) next to the bam files."
     ]
    },
    {
     "cell_type": "code",
     "collapsed": false,
     "input": [
      "!ls *.ba*"
     ],
     "language": "python",
     "metadata": {},
     "outputs": [
      {
       "output_type": "stream",
       "stream": "stdout",
       "text": [
        "461177.bam  461177.bam.bai  461178.bam\t461178.bam.bai\r\n"
       ]
      }
     ],
     "prompt_number": 3
    },
    {
     "cell_type": "markdown",
     "metadata": {},
     "source": [
      "__Generate Index of an Annotation File__"
     ]
    },
    {
     "cell_type": "markdown",
     "metadata": {},
     "source": [
      "An annotation file is needed."
     ]
    },
    {
     "cell_type": "code",
     "collapsed": false,
     "input": [
      "get(3)\n",
      "!mv 3 dm3.ensGene.gtf"
     ],
     "language": "python",
     "metadata": {},
     "outputs": [],
     "prompt_number": 4
    },
    {
     "cell_type": "markdown",
     "metadata": {},
     "source": [
      "A script for the conversion of gtf(gff2) to gff3 is needed"
     ]
    },
    {
     "cell_type": "code",
     "collapsed": false,
     "input": [
      "urlretrieve(\"http://genes.mit.edu/burgelab/miso/scripts/gtf2gff3.pl\",\"gtf2gff3.pl\")"
     ],
     "language": "python",
     "metadata": {},
     "outputs": [
      {
       "metadata": {},
       "output_type": "pyout",
       "prompt_number": 5,
       "text": [
        "('gtf2gff3.pl', <httplib.HTTPMessage instance at 0x7f1c95700bd8>)"
       ]
      }
     ],
     "prompt_number": 5
    },
    {
     "cell_type": "markdown",
     "metadata": {},
     "source": [
      "... to convert the annotation file to the newer gff3 standard"
     ]
    },
    {
     "cell_type": "code",
     "collapsed": false,
     "input": [
      "!perl gtf2gff3.pl dm3.ensGene.gtf > dm3.ensGene.gff3"
     ],
     "language": "python",
     "metadata": {},
     "outputs": [
      {
       "output_type": "stream",
       "stream": "stdout",
       "text": [
        "Config::Std not installed. Will use built-in defaults.\r\n"
       ]
      }
     ],
     "prompt_number": 6
    },
    {
     "cell_type": "markdown",
     "metadata": {},
     "source": [
      "Now misopy is needed to generate an index for this annotation file\n",
      "\n",
      "The index will be stored in the 'indexed' folder"
     ]
    },
    {
     "cell_type": "code",
     "collapsed": false,
     "input": [
      "import misopy\n",
      "from misopy import index_gff\n",
      "index_gff.index_gff(\"dm3.ensGene.gff3\", \"indexed\")"
     ],
     "language": "python",
     "metadata": {},
     "outputs": [
      {
       "output_type": "stream",
       "stream": "stdout",
       "text": [
        "Indexing GFF...\n",
        "  - GFF: dm3.ensGene.gff3\n",
        "  - Outputting to: indexed\n",
        "Through 0 genes..."
       ]
      },
      {
       "output_type": "stream",
       "stream": "stdout",
       "text": [
        "\n",
        "Through 5000 genes..."
       ]
      },
      {
       "output_type": "stream",
       "stream": "stdout",
       "text": [
        "\n",
        "Through 10000 genes..."
       ]
      },
      {
       "output_type": "stream",
       "stream": "stdout",
       "text": [
        "\n",
        "Loaded 14869 genes"
       ]
      },
      {
       "output_type": "stream",
       "stream": "stdout",
       "text": [
        "\n",
        "  - Loading of genes from GFF took 9.59 seconds"
       ]
      },
      {
       "output_type": "stream",
       "stream": "stdout",
       "text": [
        "\n",
        "Making directory: indexed/chr2RHet\n",
        "  - Chromosome serialization took 0.05 seconds"
       ]
      },
      {
       "output_type": "stream",
       "stream": "stdout",
       "text": [
        "\n",
        "Making directory: indexed/chr3RHet\n",
        "  - Chromosome serialization took 0.00 seconds\n",
        "Making directory: indexed/chrU\n",
        "  - Chromosome serialization took 0.02 seconds\n",
        "Making directory: indexed/chr4\n",
        "  - Chromosome serialization took 0.04 seconds"
       ]
      },
      {
       "output_type": "stream",
       "stream": "stdout",
       "text": [
        "\n",
        "Making directory: indexed/chrYHet\n",
        "  - Chromosome serialization took 0.00 seconds\n",
        "Making directory: indexed/chr3L\n",
        "  - Chromosome serialization took 0.59 seconds"
       ]
      },
      {
       "output_type": "stream",
       "stream": "stdout",
       "text": [
        "\n",
        "Making directory: indexed/chr2L\n",
        "  - Chromosome serialization took 0.60 seconds"
       ]
      },
      {
       "output_type": "stream",
       "stream": "stdout",
       "text": [
        "\n",
        "Making directory: indexed/chr2LHet\n",
        "  - Chromosome serialization took 0.00 seconds\n",
        "Making directory: indexed/chrX\n",
        "  - Chromosome serialization took 0.54 seconds"
       ]
      },
      {
       "output_type": "stream",
       "stream": "stdout",
       "text": [
        "\n",
        "Making directory: indexed/chrXHet\n",
        "  - Chromosome serialization took 0.00 seconds\n",
        "Making directory: indexed/chr2R\n",
        "  - Chromosome serialization took 0.72 seconds"
       ]
      },
      {
       "output_type": "stream",
       "stream": "stdout",
       "text": [
        "\n",
        "Making directory: indexed/chr3R\n",
        "  - Chromosome serialization took 0.86 seconds"
       ]
      },
      {
       "output_type": "stream",
       "stream": "stdout",
       "text": [
        "\n",
        "Making directory: indexed/chrM\n",
        "  - Chromosome serialization took 0.00 seconds\n",
        "Making directory: indexed/chr3LHet\n",
        "  - Chromosome serialization took 0.01 seconds\n",
        "Outputting gene records in GFF format..."
       ]
      },
      {
       "output_type": "stream",
       "stream": "stdout",
       "text": [
        "\n",
        "  - Output file: indexed/genes.gff\n",
        "  - Serialization of genes from GFF took 4.72 seconds"
       ]
      },
      {
       "output_type": "stream",
       "stream": "stdout",
       "text": [
        "\n",
        "Indexing of GFF took 14.32 seconds.\n"
       ]
      }
     ],
     "prompt_number": 7
    },
    {
     "cell_type": "markdown",
     "metadata": {},
     "source": [
      "Now everything that is needed should be available to create a Sashimi plot\n",
      "\n",
      "__Generate Sashimi Plot__\n",
      "\n",
      "The function for the sashimi plot is imported"
     ]
    },
    {
     "cell_type": "code",
     "collapsed": false,
     "input": [
      "from misopy.sashimi_plot import sashimi_plot as sash_plot\n",
      "help(sash_plot.plot_event)"
     ],
     "language": "python",
     "metadata": {},
     "outputs": [
      {
       "output_type": "stream",
       "stream": "stdout",
       "text": [
        "Help on function plot_event in module misopy.sashimi_plot.sashimi_plot:\n",
        "\n",
        "plot_event(event_name, pickle_dir, settings_filename, output_dir, no_posteriors=False, plot_title=None, plot_label=None)\n",
        "    Visualize read densities across the exons and junctions\n",
        "    of a given MISO alternative RNA processing event.\n",
        "    \n",
        "    Also plots MISO estimates and Psi values.\n",
        "\n"
       ]
      },
      {
       "output_type": "stream",
       "stream": "stderr",
       "text": [
        "/usr/local/lib/python2.7/dist-packages/matplotlib/__init__.py:1318: UserWarning:  This call to matplotlib.use() has no effect\n",
        "because the backend has already been chosen;\n",
        "matplotlib.use() must be called *before* pylab, matplotlib.pyplot,\n",
        "or matplotlib.backends is imported for the first time.\n",
        "\n",
        "  warnings.warn(_use_error_msg)\n"
       ]
      }
     ],
     "prompt_number": 8
    },
    {
     "cell_type": "markdown",
     "metadata": {},
     "source": [
      "A sashimi_settings file specifies aspects of the plot."
     ]
    },
    {
     "cell_type": "code",
     "collapsed": false,
     "input": [
      "import ConfigParser\n",
      "\n",
      "config = ConfigParser.RawConfigParser()\n",
      "config.add_section('data')\n",
      "config.set('data', 'bam_prefix', '/import')\n",
      "config.set('data', 'bam_files', '[\"461177.bam\", \"461178.bam\"]')\n",
      "config.add_section('plotting')\n",
      "config.set('plotting', 'fig_width', '7')\n",
      "config.set('plotting', 'fig_height', '5')\n",
      "config.set('plotting', 'intron_scale', '30')\n",
      "config.set('plotting', 'exon_scale', '4')\n",
      "config.set('plotting', 'logged', 'False')\n",
      "config.set('plotting', 'font_size', '5')\n",
      "config.set('plotting', 'ymax', '2500')\n",
      "config.set('plotting', 'show_posteriors', 'False')\n",
      "config.set('plotting', 'bar_posteriors', 'False')\n",
      "config.set('plotting', 'number_junctions', 'True')\n",
      "config.set('plotting', 'colors', '[\"#770022\",\"#FF8800\"]')\n",
      "\n",
      "\n",
      "with open('sashimi_settings.txt', 'wb') as configfile:\n",
      "    config.write(configfile)"
     ],
     "language": "python",
     "metadata": {},
     "outputs": [],
     "prompt_number": 9
    },
    {
     "cell_type": "markdown",
     "metadata": {},
     "source": [
      "An output directory is created and a specific region of interest is plotted. \n",
      "\n",
      "The ID of the event we want plotted comes from a valid name from the indexed gff file. (See last column of 'indexed/genes.gff')\n"
     ]
    },
    {
     "cell_type": "code",
     "collapsed": false,
     "input": [
      "!mkdir output\n",
      "sash_plot.plot_event(\"FBgn0039909\",\"indexed\",\"sashimi_settings.txt\",\"output\")\n"
     ],
     "language": "python",
     "metadata": {},
     "outputs": [
      {
       "output_type": "stream",
       "stream": "stdout",
       "text": [
        "Reading settings from: sashimi_settings.txt\n",
        "Parsing data:bam_prefix\n",
        "Parsing data:bam_files\n",
        "Parsing plotting:fig_width\n",
        "Parsing plotting:fig_height\n",
        "Parsing plotting:intron_scale\n",
        "Parsing plotting:exon_scale\n",
        "Parsing plotting:logged\n",
        "Parsing plotting:font_size\n",
        "Parsing plotting:ymax\n",
        "Parsing plotting:show_posteriors\n",
        "Parsing plotting:bar_posteriors\n",
        "Parsing plotting:number_junctions\n",
        "Parsing plotting:colors\n",
        "Reading dimensions from settings...\n",
        " - Height: 5.00\n",
        " - Width: 7.00\n",
        "Plotting read densities and MISO estimates along event...\n",
        "  - Event: FBgn0039909\n",
        "Setting up plot using dimensions:  [7.0, 5.0]\n",
        "Using intron scale  30.0\n",
        "Using exon scale  4.0\n",
        "Reading sample label: 461177.bam"
       ]
      },
      {
       "output_type": "stream",
       "stream": "stdout",
       "text": [
        "\n",
        "Processing BAM: /import/461177.bam\n",
        "Skipping read with CIGAR 31M2I4M"
       ]
      },
      {
       "output_type": "stream",
       "stream": "stdout",
       "text": [
        "\n",
        "Skipping read with CIGAR 11M1I25M\n",
        "Skipping read with CIGAR 35M57N2M\n",
        "Skipping read with CIGAR 2M57N35M\n",
        "Skipping read with CIGAR 2M65N35M\n",
        "Reading sample label: 461178.bam"
       ]
      },
      {
       "output_type": "stream",
       "stream": "stdout",
       "text": [
        "\n",
        "Processing BAM: /import/461178.bam\n",
        "Skipping read with CIGAR 2M57N35M"
       ]
      },
      {
       "output_type": "stream",
       "stream": "stdout",
       "text": [
        "\n",
        "Skipping read with CIGAR 2M57N35M\n",
        "Skipping read with CIGAR 2M57N35M\n",
        "Skipping read with CIGAR 35M65N2M\n",
        "Skipping read with CIGAR 35M65N2M\n",
        "Skipping read with CIGAR 35M65N2M\n",
        "Skipping read with CIGAR 35M65N2M\n",
        "Skipping read with CIGAR 2M70N35M\n",
        "Saving plot to: /import/output/FBgn0039909.pdf"
       ]
      },
      {
       "output_type": "stream",
       "stream": "stdout",
       "text": [
        "\n"
       ]
      },
      {
       "metadata": {},
       "output_type": "display_data",
       "png": "[encoded data removed]",
       "text": [
        "<matplotlib.figure.Figure at 0x7f1c86f877d0>"
       ]
      }
     ],
     "prompt_number": 10
    },
    {
     "cell_type": "markdown",
     "metadata": {},
     "source": [
      "Finally save the pdf back to the Galaxy history"
     ]
    },
    {
     "cell_type": "code",
     "collapsed": false,
     "input": [
      "put(\"output/FBgn0039909.pdf\")\n"
     ],
     "language": "python",
     "metadata": {},
     "outputs": [],
     "prompt_number": 20
    },
    {
     "cell_type": "code",
     "collapsed": false,
     "input": [],
     "language": "python",
     "metadata": {},
     "outputs": []
    }
   ],
   "metadata": {}
  }
 ]
}
